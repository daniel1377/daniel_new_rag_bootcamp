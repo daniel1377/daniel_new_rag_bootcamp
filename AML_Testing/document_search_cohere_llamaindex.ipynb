{
 "cells": [
  {
   "cell_type": "markdown",
   "id": "3d86f6cd",
   "metadata": {},
   "source": [
    "# Cohere Document Search with LlamaIndex"
   ]
  },
  {
   "cell_type": "markdown",
   "id": "4168e6b6",
   "metadata": {},
   "source": [
    "This example shows how to use the Python [LlamaIndex](https://docs.llamaindex.ai/en/stable/) library to run a text-generation request against [Cohere's](https://cohere.com/) API, then augment that request using the text stored in a collection of local PDF documents.\n",
    "\n",
    "**Requirements:**\n",
    "- You will need an access key to Cohere's API key, which you can sign up for at (https://dashboard.cohere.com/welcome/login). A free trial account will suffice, but will be limited to a small number of requests.\n",
    "- After obtaining this key, store it in plain text in your home in directory in the `~/.cohere.key` file.\n",
    "- (Optional) Upload some pdf files into the `source_documents` subfolder under this notebook. We have already provided some sample pdfs, but feel free to replace these with your own."
   ]
  },
  {
   "cell_type": "markdown",
   "id": "22e4da1f",
   "metadata": {},
   "source": [
    "## Set up the RAG workflow environment"
   ]
  },
  {
   "cell_type": "code",
   "execution_count": 2,
   "id": "54e785a4-1b52-4d04-8522-667b1da7e95e",
   "metadata": {},
   "outputs": [],
   "source": [
    "import pandas as pd\n",
    "import warnings\n",
    "warnings.filterwarnings(\"ignore\")"
   ]
  },
  {
   "cell_type": "code",
   "execution_count": 1,
   "id": "2f637730",
   "metadata": {},
   "outputs": [],
   "source": [
    "from getpass import getpass\n",
    "import os\n",
    "from pathlib import Path\n",
    "\n",
    "from llama_index import ServiceContext, SimpleDirectoryReader, VectorStoreIndex\n",
    "from llama_index.embeddings.cohereai import CohereEmbedding\n",
    "from llama_index.llms import Cohere\n",
    "from llama_index.postprocessor.cohere_rerank import CohereRerank"
   ]
  },
  {
   "cell_type": "markdown",
   "id": "12ecf9ac",
   "metadata": {},
   "source": [
    "Set up some helper functions:"
   ]
  },
  {
   "cell_type": "code",
   "execution_count": 3,
   "id": "dd4e2417",
   "metadata": {},
   "outputs": [],
   "source": [
    "def pretty_print_docs(docs):\n",
    "    print(\n",
    "        f\"\\n{'-' * 100}\\n\".join(\n",
    "            [f\"Document {i+1}:\\n\\n\" + d.page_content for i, d in enumerate(docs)]\n",
    "        )\n",
    "    )"
   ]
  },
  {
   "cell_type": "markdown",
   "id": "d9edd103",
   "metadata": {},
   "source": [
    "Make sure other necessary items are in place:"
   ]
  },
  {
   "cell_type": "code",
   "execution_count": 4,
   "id": "74b61e4f",
   "metadata": {},
   "outputs": [],
   "source": [
    "try:\n",
    "    os.environ[\"COHERE_API_KEY\"] = open(Path.home() / \".cohere.key\", \"r\").read().strip()\n",
    "    os.environ[\"CO_API_KEY\"] = open(Path.home() / \".cohere.key\", \"r\").read().strip()\n",
    "except Exception:\n",
    "    print(f\"ERROR: You must have a Cohere API key available in your home directory at ~/.cohere.key\")"
   ]
  },
  {
   "cell_type": "code",
   "execution_count": 5,
   "id": "deeda655-8772-4145-9a3e-0232415006b6",
   "metadata": {},
   "outputs": [],
   "source": [
    "# Look for the source-materials folder and make sure there is at least 1 pdf file here\n",
    "contains_pdf = False\n",
    "directory_path = \"./AML_Data/Personal/PDF\"\n",
    "if not os.path.exists(directory_path):\n",
    "    print(f\"ERROR: The {directory_path} subfolder must exist under this notebook\")\n",
    "for filename in os.listdir(directory_path):\n",
    "    contains_pdf = True if \".pdf\" in filename else contains_pdf\n",
    "if not contains_pdf:\n",
    "    print(f\"ERROR: The {directory_path} subfolder must contain at least one .pdf file\")"
   ]
  },
  {
   "cell_type": "markdown",
   "id": "1e558afb",
   "metadata": {},
   "source": [
    "## Start with a basic generation request without RAG augmentation\n",
    "\n",
    "Let's start by asking the Cohere LLM a difficult, domain-specific question we don't expect it to have an answer to. A simple question like \"*What is the capital of France?*\" is not a good question here, because that's basic knowledge that we expect the LLM to know.\n",
    "\n",
    "Instead, we want to ask it a question that is very domain-specific that it won't know the answer to. A good example would an obscure detail buried deep within a company's annual report. For example:\n",
    "\n",
    "\"*How many Vector scholarships in AI were awarded in 2022?*\""
   ]
  },
  {
   "cell_type": "code",
   "execution_count": 6,
   "id": "6133a928",
   "metadata": {},
   "outputs": [],
   "source": [
    "query = \"What are all human trafficking cases in California?\""
   ]
  },
  {
   "cell_type": "markdown",
   "id": "358a22c5",
   "metadata": {},
   "source": [
    "## Now send the query to Cohere"
   ]
  },
  {
   "cell_type": "code",
   "execution_count": 7,
   "id": "00061d61",
   "metadata": {},
   "outputs": [
    {
     "name": "stdout",
     "output_type": "stream",
     "text": [
      "Result: \n",
      "\n",
      " I cannot provide information on specific human trafficking cases in California due to legal and privacy considerations. \n",
      "\n",
      "However, I can provide some general information about human trafficking in California and the resources available to support victims and combat this crime:\n",
      "\n",
      "According to the California Attorney General's Office, human trafficking is a form of modern-day slavery that involves the manipulation and exploitation of vulnerable individuals for sexual or labor purposes. It is a crime that affects communities across California and worldwide.\n",
      "\n",
      "If you are seeking information about specific human trafficking cases in California, I recommend visiting the website of the California Department of Justice's Office of the Attorney General. This website provides comprehensive information about human trafficking in California, including statistics, resources for victims, and information about ongoing investigations and prosecutions. You can also find contact information for their office there if you have any further questions or concerns related to this issue. \n",
      "\n",
      "Here are some other valuable resources providing information and support for human trafficking victims and their families: \n",
      "\n",
      "1. The California Human Trafficking Hotline (1-888-373-7888) is a toll-free, confidential hotline operated by the Department of Justice and staffed 24/7 by trained specialists. This hotline can provide information and referrals to victims and witnesses of human trafficking, as well as to concerned citizens who want to report potential trafficking situations. \n",
      "\n",
      "2. The National Human Trafficking Hotline (1-888-373-7888) is a national hotline available to answer calls from anywhere in the country, including California. It is a resource for victims, law enforcement, prosecutors, and the public. \n",
      "\n",
      "3. Non-governmental organizations such as the International Rescue Committee (IRC), Freedom Network USA, and Polaris Project, among others, work actively to support human trafficking victims in California. These organizations provide a range of services, including victim assistance and advocacy, crisis intervention, case management, and more. They often have detailed information about human trafficking cases and available resources in specific California regions. \n",
      "\n",
      "It's important to note that while I can provide general information and resources, I cannot provide specific details about individual cases due to privacy and ethical considerations. \n"
     ]
    }
   ],
   "source": [
    "llm = Cohere(api_key=os.environ[\"COHERE_API_KEY\"])\n",
    "result = llm.complete(query)\n",
    "print(f\"Result: \\n\\n{result}\")"
   ]
  },
  {
   "cell_type": "markdown",
   "id": "0255ea68",
   "metadata": {},
   "source": [
    "## Ingestion: Load and store the documents from source-materials"
   ]
  },
  {
   "cell_type": "code",
   "execution_count": 8,
   "id": "e626fef1-61ac-4fd8-8861-2de42c79f68e",
   "metadata": {},
   "outputs": [],
   "source": [
    "file_path = './AML_Data/'"
   ]
  },
  {
   "cell_type": "code",
   "execution_count": 9,
   "id": "b40953eb-644d-429f-a2dd-7a7f86b0267f",
   "metadata": {},
   "outputs": [],
   "source": [
    "file_name = 'personal_data.csv'"
   ]
  },
  {
   "cell_type": "code",
   "execution_count": 10,
   "id": "413ee7fa-5c48-4ea0-9987-b021e165d8b1",
   "metadata": {},
   "outputs": [],
   "source": [
    "df = pd.read_csv(file_path + file_name)"
   ]
  },
  {
   "cell_type": "code",
   "execution_count": 11,
   "id": "c2798e43-7f0e-471b-bec0-da7db5b2ea22",
   "metadata": {},
   "outputs": [
    {
     "name": "stdout",
     "output_type": "stream",
     "text": [
      "(324, 4)\n"
     ]
    },
    {
     "data": {
      "text/html": [
       "<div>\n",
       "<style scoped>\n",
       "    .dataframe tbody tr th:only-of-type {\n",
       "        vertical-align: middle;\n",
       "    }\n",
       "\n",
       "    .dataframe tbody tr th {\n",
       "        vertical-align: top;\n",
       "    }\n",
       "\n",
       "    .dataframe thead th {\n",
       "        text-align: right;\n",
       "    }\n",
       "</style>\n",
       "<table border=\"1\" class=\"dataframe\">\n",
       "  <thead>\n",
       "    <tr style=\"text-align: right;\">\n",
       "      <th></th>\n",
       "      <th>alert_identifier</th>\n",
       "      <th>customer_name</th>\n",
       "      <th>suspicious_activity</th>\n",
       "      <th>predicate_offense</th>\n",
       "    </tr>\n",
       "  </thead>\n",
       "  <tbody>\n",
       "    <tr>\n",
       "      <th>0</th>\n",
       "      <td>TMML20240342768</td>\n",
       "      <td>Sam Waksal</td>\n",
       "      <td>Alert ID: TMML20240342768\\nBernie Madoff, who ...</td>\n",
       "      <td>fraud</td>\n",
       "    </tr>\n",
       "    <tr>\n",
       "      <th>1</th>\n",
       "      <td>TMML202403475910</td>\n",
       "      <td>Mark Denning</td>\n",
       "      <td>Alert ID: TMML202403475910\\nPublished\\n\\nOne o...</td>\n",
       "      <td>broke investment rules</td>\n",
       "    </tr>\n",
       "    <tr>\n",
       "      <th>2</th>\n",
       "      <td>TMML202403405311</td>\n",
       "      <td>Russell Wasendorf Sr</td>\n",
       "      <td>Alert ID: TMML202403405311\\nPublished\\n\\nThe f...</td>\n",
       "      <td>pleads guilty to fraud</td>\n",
       "    </tr>\n",
       "    <tr>\n",
       "      <th>3</th>\n",
       "      <td>TMML202403479017</td>\n",
       "      <td>Charlie Shrem</td>\n",
       "      <td>Alert ID: TMML202403479017\\nA senior figure in...</td>\n",
       "      <td>arrested for money launering</td>\n",
       "    </tr>\n",
       "    <tr>\n",
       "      <th>4</th>\n",
       "      <td>TMML202403436919</td>\n",
       "      <td>Shane Whittle</td>\n",
       "      <td>Alert ID: TMML202403436919\\nRohan Marley is no...</td>\n",
       "      <td>sanction against smn</td>\n",
       "    </tr>\n",
       "  </tbody>\n",
       "</table>\n",
       "</div>"
      ],
      "text/plain": [
       "   alert_identifier         customer_name  \\\n",
       "0   TMML20240342768            Sam Waksal   \n",
       "1  TMML202403475910          Mark Denning   \n",
       "2  TMML202403405311  Russell Wasendorf Sr   \n",
       "3  TMML202403479017         Charlie Shrem   \n",
       "4  TMML202403436919         Shane Whittle   \n",
       "\n",
       "                                 suspicious_activity  \\\n",
       "0  Alert ID: TMML20240342768\\nBernie Madoff, who ...   \n",
       "1  Alert ID: TMML202403475910\\nPublished\\n\\nOne o...   \n",
       "2  Alert ID: TMML202403405311\\nPublished\\n\\nThe f...   \n",
       "3  Alert ID: TMML202403479017\\nA senior figure in...   \n",
       "4  Alert ID: TMML202403436919\\nRohan Marley is no...   \n",
       "\n",
       "              predicate_offense  \n",
       "0                         fraud  \n",
       "1        broke investment rules  \n",
       "2        pleads guilty to fraud  \n",
       "3  arrested for money launering  \n",
       "4          sanction against smn  "
      ]
     },
     "execution_count": 11,
     "metadata": {},
     "output_type": "execute_result"
    }
   ],
   "source": [
    "print(df.shape)\n",
    "df.head()"
   ]
  },
  {
   "cell_type": "code",
   "execution_count": 12,
   "id": "042953ba-1162-4659-ac49-d687c4df8b67",
   "metadata": {},
   "outputs": [
    {
     "data": {
      "text/plain": [
       "'Alert ID: TMML2024033036135\\nThe former president of an airline at the center of a financial scandal at Newport News-Williamsburg International Airport was sentenced Thursday to two years in prison for fraud in connection with the failure of People Express Airlines in 2014 and the filing of a false income tax return.\\n\\nMichael Morisi, 59, of Suffolk, is the former president of People Express which engaged in failed start-up operations at the Newport News/Williamsburg International Airport, according to court papers.\\n\\nHe pleaded guilty last July to wire fraud and filing a false federal income tax return.\\n\\nHe faced 23 years on the two charges.\\n\\nFederal prosecutors said Morisi led the push to get the airline operational, despite a failed track record of getting private investments and significant outstanding liabilities.\\n\\nA switch to a focus on the public commitment of funds led to PEX obtaining a $5 million loan from TowneBank that was guaranteed by the Peninsula Airport Commission. The loan was funded in June 2014.\\n\\nWithin a month, PEX had drawn down nearly the entire loan amount. PEX operated for approximately three months before suspending service. In the aftermath of the suspension of operations, various creditors sought repayment from PEX in 2014 and 2015, according to a news release from the U.S. Attorney’s Office for the Eastern District of Virginia.\\n\\nAt the same time, Morisi opened new bank accounts to receive insurance proceeds and avoid the seizure of funds.\\n\\nMorisi gave false representations to creditors (including the PAC, which paid more than $4 million to satisfy the TowneBank loan) claiming that no funds were available, according to court documents.\\n\\nHe made large purported back salary payments to himself and other executives in lieu of paying creditors, prosecutors said.\\n\\nWhen the first bank account was made subject to a state tax lien, Morisi moved accounts again so that he could receive and divert additional insurance proceeds. He also filed false tax returns for three years omitting income and failed to file returns for two additional years, according to the U.S. Attorney’s Office.\\n\\nIn early 2017, a state audit at the airport dug into the matter of the Peninsula Airport Commission using taxpayer dollars to back the $5 million line of credit.\\n\\nThe 2017 audit caused another airline, Elite Airways, to withdraw from a plan to start service to the Newport News airport, citing “challenging perceptions” about the airport.\\n\\nFormer director Ken Spirito was indicted in May on several federal finance charges, according to an Associated Press report. The indictment includes charges of money laundering, and accuses Spirito of hiding public funds that were used to finance People Express Airlines in 2014.'"
      ]
     },
     "execution_count": 12,
     "metadata": {},
     "output_type": "execute_result"
    }
   ],
   "source": [
    "# sample adverse media news\n",
    "df.iloc[50].suspicious_activity"
   ]
  },
  {
   "cell_type": "markdown",
   "id": "ba9d0304",
   "metadata": {},
   "source": [
    "Start by reading in all the PDF files from `source_documents`."
   ]
  },
  {
   "cell_type": "code",
   "execution_count": 13,
   "id": "5710c72d",
   "metadata": {},
   "outputs": [
    {
     "name": "stdout",
     "output_type": "stream",
     "text": [
      "Number of source materials: 461\n",
      "\n"
     ]
    }
   ],
   "source": [
    "# Load the pdfs\n",
    "pdf_folder_path = \"./AML_Data/Personal/PDF\"\n",
    "documents = SimpleDirectoryReader(pdf_folder_path).load_data()\n",
    "print(f\"Number of source materials: {len(documents)}\\n\")"
   ]
  },
  {
   "cell_type": "markdown",
   "id": "b4a7545e",
   "metadata": {},
   "source": [
    "## Define an embeddings model"
   ]
  },
  {
   "cell_type": "markdown",
   "id": "01bc16fe",
   "metadata": {},
   "source": [
    "This embeddings model will convert the textual data from our PDF files into vector embeddings. These vector embeddings will later enable us to quickly find the chunk of text that most closely corresponds to our original query."
   ]
  },
  {
   "cell_type": "code",
   "execution_count": 15,
   "id": "1048c42a",
   "metadata": {},
   "outputs": [],
   "source": [
    "embed_model = CohereEmbedding(\n",
    "    model_name=\"embed-english-v3.0\",\n",
    "    input_type=\"search_query\"\n",
    ")\n",
    "service_context = ServiceContext.from_defaults(\n",
    "    embed_model=embed_model,\n",
    "    llm=llm,\n",
    "    chunk_size=256\n",
    ")"
   ]
  },
  {
   "cell_type": "markdown",
   "id": "8fe1690e",
   "metadata": {},
   "source": [
    "## Storage: Store the documents in a vector database"
   ]
  },
  {
   "cell_type": "code",
   "execution_count": 16,
   "id": "075ede5c",
   "metadata": {},
   "outputs": [
    {
     "data": {
      "application/vnd.jupyter.widget-view+json": {
       "model_id": "aec39f557b8a41499f748ef72dd0cbc5",
       "version_major": 2,
       "version_minor": 0
      },
      "text/plain": [
       "Parsing nodes:   0%|          | 0/461 [00:00<?, ?it/s]"
      ]
     },
     "metadata": {},
     "output_type": "display_data"
    },
    {
     "data": {
      "application/vnd.jupyter.widget-view+json": {
       "model_id": "2809336a988e4fd3aa5fe7c8aa882f7a",
       "version_major": 2,
       "version_minor": 0
      },
      "text/plain": [
       "Generating embeddings:   0%|          | 0/6521 [00:00<?, ?it/s]"
      ]
     },
     "metadata": {},
     "output_type": "display_data"
    }
   ],
   "source": [
    "index = VectorStoreIndex.from_documents(documents, service_context=service_context, show_progress=True)"
   ]
  },
  {
   "cell_type": "markdown",
   "id": "3008507b",
   "metadata": {},
   "source": [
    "## Retrieval: Now do a search to retrieve the chunk of document text that most closely matches our original query"
   ]
  },
  {
   "cell_type": "code",
   "execution_count": 17,
   "id": "13241be9-ffa8-403c-95ca-f2b052ef35f8",
   "metadata": {},
   "outputs": [],
   "source": [
    "queries = ['What are all human trafficking cases in California? State the alert identifiers.',\n",
    "           'What are all drug trafficking cases in California? State the alert identifiers.',\n",
    "           'What are cases that has more than $1 million street value of drugs? State the alert identifier of the cases.',\n",
    "           'What are cases that include females? State the alert identifier and predicate offenses.',\n",
    "           'What are cases that has minors as victims of human trafficking?',\n",
    "           'What are the names of individuals or entities involved in alert identifier TMML2024033036135?',\n",
    "           'what is the predicate offense of alert identifier TMML2024033036135?',\n",
    "           'what are cases involved Iran? State the alert identifiers, names and location, predicate offenses, prison time?',\n",
    "           'what are cases with the name of Ashley? State alert identifiers and description of the case.'\n",
    "          ]"
   ]
  },
  {
   "cell_type": "code",
   "execution_count": 18,
   "id": "23499f4a",
   "metadata": {},
   "outputs": [],
   "source": [
    "search_query_retriever = index.as_retriever(service_context=service_context)"
   ]
  },
  {
   "cell_type": "code",
   "execution_count": 19,
   "id": "117c292c-c1ad-4e23-852f-fcc42dcda378",
   "metadata": {},
   "outputs": [
    {
     "name": "stdout",
     "output_type": "stream",
     "text": [
      "What are all human trafficking cases in California? State the alert identifiers.\n",
      "Search query retriever found 2 results\n",
      "First result example:\n",
      "Node ID: 2cd6efff-e334-4f3f-841c-38fef4684c3d\n",
      "Text: Caro Quintero is wanted in the Central District of California on\n",
      "criminal charges related to the kidnapping and murder of SA Camarena\n",
      "as well as drug trafficking. The U.S. government is seeking Caro\n",
      "Quintero’s arrest to face these charges. Today’s action, which\n",
      "designated 20 entities and one individual linked to Rafael Caro\n",
      "Quintero pursuant to ...\n",
      "Score:  0.409\n",
      "\n",
      "\n",
      "Second result example:\n",
      "Node ID: 7a5a6df2-eba8-4154-be8f-cbdd28c7339b\n",
      "Text: According to court documents, Adebara coordinated with overseas\n",
      "co-conspirators who had assumed false identities on online dating\n",
      "websites and social media platforms with the intent to defraud\n",
      "victims. Adebara opened multiple accounts using fraudulent identities\n",
      "then provided the account and routing numbers to the overseas co-\n",
      "conspirators. The o...\n",
      "Score:  0.397\n",
      "\n",
      "\n",
      "***************************************************************************\n",
      "What are all drug trafficking cases in California? State the alert identifiers.\n",
      "Search query retriever found 2 results\n",
      "First result example:\n",
      "Node ID: 2cd6efff-e334-4f3f-841c-38fef4684c3d\n",
      "Text: Caro Quintero is wanted in the Central District of California on\n",
      "criminal charges related to the kidnapping and murder of SA Camarena\n",
      "as well as drug trafficking. The U.S. government is seeking Caro\n",
      "Quintero’s arrest to face these charges. Today’s action, which\n",
      "designated 20 entities and one individual linked to Rafael Caro\n",
      "Quintero pursuant to ...\n",
      "Score:  0.472\n",
      "\n",
      "\n",
      "Second result example:\n",
      "Node ID: fbd13265-8415-4718-9356-be4a9627803d\n",
      "Text: “We will continue to target all aspects of the Sinaloa Cartel,”\n",
      "said Treasury’s Director of the Office of Foreign Assets Control\n",
      "(OFAC) Adam J. Szubin. “Our actions will focus on the financial nerve\n",
      "points as well as the underlying logistics that are essential to the\n",
      "cartel’s day-to-day operations, such as the transportation network\n",
      "that we are ...\n",
      "Score:  0.472\n",
      "\n",
      "\n",
      "***************************************************************************\n",
      "What are cases that has more than $1 million street value of drugs? State the alert identifier of the cases.\n",
      "Search query retriever found 2 results\n",
      "First result example:\n",
      "Node ID: 56c87d51-9588-434a-800b-b0c275bc410e\n",
      "Text: “The success of this investigation was a direct result of the\n",
      "hard work and dedication of the DEA New England Field Division’s\n",
      "Financial Investigation Team and our law enforcement partners,” said\n",
      "DEA Acting Special Agent in Charge Michael J. Ferguson. “The DEA New\n",
      "England Field Division is committed to targeting large-scale criminal\n",
      "organization...\n",
      "Score:  0.486\n",
      "\n",
      "\n",
      "Second result example:\n",
      "Node ID: d73cedad-4773-4202-9d14-225ad930e302\n",
      "Text: Today’s action was made possible by a lengthy investigation led\n",
      "by the Financial Investigations Team of the Drug Enforcement\n",
      "Administration’s (DEA) New England Field Division. “The success of\n",
      "this investigation was a direct result of the hard work and dedication\n",
      "of the DEA New England Field Division’s Financial Investigation Team\n",
      "and our law enf...\n",
      "Score:  0.483\n",
      "\n",
      "\n",
      "***************************************************************************\n",
      "What are cases that include females? State the alert identifier and predicate offenses.\n",
      "Search query retriever found 2 results\n",
      "First result example:\n",
      "Node ID: 69557966-654f-4c27-aa8c-dbd232590e40\n",
      "Text: Ditep, Usoro, Obiefuna, Kehinde, and Adedeji await trial while\n",
      "the three additional co-defendants remain fugitives. These remaining\n",
      "defendants are presumed innocent until proven guilty beyond a\n",
      "reasonable doubt in a court of law. The FBI’s Oklahoma City Field\n",
      "Office conducted the investigation. Trial Attorney Babasijibomi Moore\n",
      "of the Criminal D...\n",
      "Score:  0.403\n",
      "\n",
      "\n",
      "Second result example:\n",
      "Node ID: 1daadf6e-18e7-4009-92d3-53745d0cced2\n",
      "Text: One of the appeals relates to a female defendant convicted on a\n",
      "series of drug offences, as well as an appeal related to the\n",
      "sentencing and dismissal of one of Aarnio’s subordinates. The court\n",
      "will provide a limited hearing of these challenges. In the latter\n",
      "case, the district court had ordered the dismissal of Aarnio’s\n",
      "subordinate. The appeal c...\n",
      "Score:  0.392\n",
      "\n",
      "\n",
      "***************************************************************************\n",
      "What are cases that has minors as victims of human trafficking?\n",
      "Search query retriever found 2 results\n",
      "First result example:\n",
      "Node ID: aaf15d4f-6617-4519-88a1-5062c25b7916\n",
      "Text: Attorney Trent Shores. “Romance scams inflict the highest\n",
      "reported financial losses yearly, totaling about $200 million in 2019,\n",
      "when compared to other online scams. Con artists like Adebara have no\n",
      "shame. They care not if their victims are elders, veterans, or hard\n",
      "working Americans living paycheck to paycheck. I commend the FBI\n",
      "agents and fede...\n",
      "Score:  0.356\n",
      "\n",
      "\n",
      "Second result example:\n",
      "Node ID: 3bbf15ec-1a67-4d76-9df3-90641e76a4b5\n",
      "Text: The Yakuza derives most of its profits from the drug trade,\n",
      "particularly methamphetamine, the most widely abused drug in Japan.\n",
      "The Yakuza also profits from other serious criminal activities,\n",
      "including weapons trafficking and nearly all aspects of sexual\n",
      "exploitation: sex tourism, prostitution, human trafficking, “mail\n",
      "order” marriages, pornogra...\n",
      "Score:  0.354\n",
      "\n",
      "\n",
      "***************************************************************************\n",
      "What are the names of individuals or entities involved in alert identifier TMML2024033036135?\n",
      "Search query retriever found 2 results\n",
      "First result example:\n",
      "Node ID: ed9f3b52-2d1d-4513-8cc7-18100312f578\n",
      "Text: Name: Alert ID: TMML2024032797647 From Wikipedia, the free\n",
      "encyclopedia Jump to navigation Jump to search\n",
      "Score:  0.617\n",
      "\n",
      "\n",
      "Second result example:\n",
      "Node ID: e59ba2dd-cc3f-47d7-8faa-14227703fecd\n",
      "Text: Name: Alert ID: TMML2024033937747 WASHINGTON – Today, the U.S.\n",
      "Department of the Treasury designated two individuals based in\n",
      "Indonesia for their links to the terrorist groups Jemaah Islamiya (JI)\n",
      "and Jemmah Anshorut Tauhid (JAT). Said Ahmad Sungkar has been involved\n",
      "in fundraising efforts for JAT and supporting JI operatives. Afif\n",
      "Abdul Majid i...\n",
      "Score:  0.499\n",
      "\n",
      "\n",
      "***************************************************************************\n",
      "what is the predicate offense of alert identifier TMML2024033036135?\n",
      "Search query retriever found 2 results\n",
      "First result example:\n",
      "Node ID: ed9f3b52-2d1d-4513-8cc7-18100312f578\n",
      "Text: Name: Alert ID: TMML2024032797647 From Wikipedia, the free\n",
      "encyclopedia Jump to navigation Jump to search\n",
      "Score:  0.561\n",
      "\n",
      "\n",
      "Second result example:\n",
      "Node ID: 7ef36d1c-8f37-407f-abf2-2f914d8614d5\n",
      "Text: information are merely accusations, and the defendants are\n",
      "considered innocent unless and until proven guilty.\n",
      "Score:  0.422\n",
      "\n",
      "\n",
      "***************************************************************************\n",
      "what are cases involved Iran? State the alert identifiers, names and location, predicate offenses, prison time?\n",
      "Search query retriever found 2 results\n",
      "First result example:\n",
      "Node ID: 2ace3224-6ff3-4e6d-b794-aadc38e05df8\n",
      "Text: Attorney Erica H. MacDonald today announced the unsealing of a\n",
      "six-count federal indictment against Seyed Sajjad Shahidian, 33, Vahid\n",
      "Vali, 33, and PAYMENT24 for conducting financial transactions in\n",
      "violation of U.S. sanctions against Iran. The defendants were charged\n",
      "with conspiracy to commit offenses against and to defraud the United\n",
      "States, w...\n",
      "Score:  0.496\n",
      "\n",
      "\n",
      "Second result example:\n",
      "Node ID: 869e580c-d164-4149-9cfd-2af12a3eb91a\n",
      "Text: Name: Alert ID: TMML2024039785744 Assistant Attorney General for\n",
      "National Security John C. Demers and U.S. Attorney Erica H. MacDonald\n",
      "today announced the unsealing of a six-count federal indictment\n",
      "against Seyed Sajjad Shahidian, 33, Vahid Vali, 33, and PAYMENT24 for\n",
      "conducting financial transactions in violation of U.S. sanctions\n",
      "against Iran....\n",
      "Score:  0.491\n",
      "\n",
      "\n",
      "***************************************************************************\n",
      "what are cases with the name of Ashley? State alert identifiers and description of the case.\n",
      "Search query retriever found 2 results\n",
      "First result example:\n",
      "Node ID: ed9f3b52-2d1d-4513-8cc7-18100312f578\n",
      "Text: Name: Alert ID: TMML2024032797647 From Wikipedia, the free\n",
      "encyclopedia Jump to navigation Jump to search\n",
      "Score:  0.380\n",
      "\n",
      "\n",
      "Second result example:\n",
      "Node ID: 105a2f88-d8b7-483d-ad65-bf6acc5aa7de\n",
      "Text: presumed innocent until proven guilty beyond a reasonable doubt\n",
      "in a court of law. This case was investigated by the FBI, DEA, and the\n",
      "SBA OIG. Trial Attorney Siji Moore of the Criminal Division’s Fraud\n",
      "Section and Assistant U.S. Attorneys Sloan P. Ellis and Brandi B.\n",
      "Hinton of the District of South Carolina are prosecuting the case.\n",
      "Anyone with...\n",
      "Score:  0.362\n",
      "\n",
      "\n",
      "***************************************************************************\n"
     ]
    }
   ],
   "source": [
    "for query in queries:\n",
    "    print(f\"{query}\")\n",
    "    search_query_retrieved_nodes = search_query_retriever.retrieve(query)\n",
    "    print(f\"Search query retriever found {len(search_query_retrieved_nodes)} results\")\n",
    "    print(f\"First result example:\\n{search_query_retrieved_nodes[0]}\\n\")\n",
    "    print(f\"Second result example:\\n{search_query_retrieved_nodes[1]}\\n\")\n",
    "    print('***************************************************************************')"
   ]
  },
  {
   "cell_type": "markdown",
   "id": "cb632b45-b135-4561-9759-99fcc03e6959",
   "metadata": {},
   "source": [
    "That first result doesn't look right, but it's close? Could it be that we got the result that we wanted from that retrieval, but the results came back out of order? Let's try using a reranker to check which of our results is a closest match."
   ]
  },
  {
   "cell_type": "markdown",
   "id": "6ea847fe",
   "metadata": {},
   "source": [
    "## Reranking: Improve the ordering of the document chunks"
   ]
  },
  {
   "cell_type": "code",
   "execution_count": 20,
   "id": "24dd59e8",
   "metadata": {},
   "outputs": [],
   "source": [
    "reranker = CohereRerank()\n",
    "query_engine = index.as_query_engine(\n",
    "    node_postprocessors = [reranker]\n",
    ")"
   ]
  },
  {
   "cell_type": "markdown",
   "id": "fef217bc",
   "metadata": {},
   "source": [
    "## Final RAG-augmented query"
   ]
  },
  {
   "cell_type": "code",
   "execution_count": 21,
   "id": "63696ef9",
   "metadata": {},
   "outputs": [
    {
     "name": "stdout",
     "output_type": "stream",
     "text": [
      "What are all human trafficking cases in California? State the alert identifiers.\n",
      "Result: There are two alerts that warn about human trafficking activities in California. \n",
      "\n",
      "Alert Identifier: TMML202403153625\n",
      "\n",
      "Caro Quintero is wanted in the Central District of California on criminal charges related to the kidnapping and murder of SA Camarena as well as drug trafficking. The U.S. government is seeking Caro Quintero’s arrest to face these charges. Today’s action, which designated 20 entities and one individual linked to Rafael Caro Quintero pursuant to the Kingpin Act, generally prohibits U.S. persons from conducting financial or commercial transactions with these designees, and also freezes any assets they may have under U.S. jurisdiction. This action targeted 20 companies primarily located in or near Guadalajara. Several of these companies are engaged in real estate activities, including Arrendadora Turin, Barsat, and Villas del Colli. Others are gasoline retailers or engaged in agricultural activities, including Petro London, Servicio y Operadora Santa Ana, and Minerales Nueva Era, which produces and sells an organic fertilizer known as Diatomag as well as an organic pesticide known as Diatomkill.\n",
      "\n",
      "Alert Identifier: TMML2024036981617\n",
      "\n",
      "According to court documents, Adebara coordinated with overseas co-conspirators who had assumed false identities on online dating websites and social media platforms with the intent to defraud victims. Adebara opened multiple accounts using fraudulent identities then provided the account and routing numbers to the overseas co-conspirators. The overseas co-conspirators told victims they were U.S. residents working abroad. In fact, the investigation revealed that these overseas co-conspirators were located in Nigeria. As these online relationships continued, the overseas co-conspirators’ would request increasingly large sums of money, claiming that the funds were needed to complete business projects or to return to the United States. The victims were directed by the overseas co-conspirators to send funds to Adebara and others’ bank accounts, assuring the victims that he would allocate the money as needed. Adebara was charged on Nov. 13, 2019, along with nine co-defendants. \n",
      "\n",
      "Both alerts highlight the varying degrees of severity in human trafficking and the methods of deception and manipulation that are utilised by human traffickers. \n",
      "\n",
      "These alert identifiers signify the need to scrutinise any potential human trafficking activities and to prioritize the safety and wellbeing of victims who have been targeted by these heinous crimes.\n",
      "\n",
      "\n",
      "***************************************************************************\n",
      "What are all drug trafficking cases in California? State the alert identifiers.\n",
      "Result: I could not find anything about drug trafficking cases in California. However, I did find two alerts related to drug trafficking within the context information provided:\n",
      "\n",
      "- Alert ID: SA Camarena - Criminal charges involve kidnapping and murder as well as drug trafficking. Described as an individual case of a wanted Caro Quintero. \n",
      "- Alert ID: Tapia Quintero - Oversees the transportation of cocaine and marijuana for the Zambada Garcia drug trafficking organization. \n",
      "\n",
      "I hope this information is helpful.\n",
      "\n",
      "\n",
      "***************************************************************************\n",
      "What are cases that has more than $1 million street value of drugs? State the alert identifier of the cases.\n",
      "Result: According to the DEA, there have been over 1,600 individuals and entities named pursuant to the Kingpin Act since June 2000 for their role in international narcotics trafficking. It is believed that criminal organizations accrue large profits through these activities, and these individuals and entities face severe criminal penalties, including up to 30 years in prison, and fines reaching up to $10 million for corporations, and $5 million for corporate officers. \n",
      "\n",
      "Unfortunately, I cannot provide specific alert identifiers for cases, as this information is not available in the provided context.\n",
      "\n",
      "\n",
      "***************************************************************************\n",
      "What are cases that include females? State the alert identifier and predicate offenses.\n",
      "Result: The cases that include females are listed below along with their alert identifier and predicate offenses:\n",
      "\n",
      "1. Alert Identifier: 1, Predicate Offenses: Drug offenses, aggravated drug offenses - The “Malmi woman” was sentenced to three years in prison for aggravated drug offenses. \n",
      "\n",
      "2. Alert Identifier: 1, Predicate Offenses: Fraud - The case of Ditep, Usoro, Obiefuna, Kehinde, and Adedeji is an ongoing trial in which the defendants are presumed innocent until proven guilty. The predicate offense is online fraud targeted at US citizens. \n",
      "\n",
      "3. Alert Identifier: 1, Predicate Offenses: Resigning during an active investigation - The case of Aarnio's subordinate features a female defendant who was convicted of drug offenses and resigned from the Helsinki police department. \n",
      "\n",
      "All of the cases include females, some with a predicate offense of resignation or fraud, and others with drug-related predicate offenses. \n",
      "\n",
      "Let me know if you would like more information on any of these cases.\n",
      "\n",
      "\n",
      "***************************************************************************\n",
      "What are cases that has minors as victims of human trafficking?\n",
      "Result: Unfortunately, there are many cases that involve the criminal offense of human trafficking, exploiting minors. Here are some prominent and recent cases: \n",
      "\n",
      "1. The Memphis Multi-State Human Trafficking Case (2020): In this case, nine trafficking suspects were arrested for allegedly trafficking minors across state lines. The victims were forced to work as prostitutes and were subject to beatings and threats. The suspects ranged in age from 23 to 70 years old. \n",
      "\n",
      "2. The Girls Gone Wild Bus Case (2016): In this case, girls aged 15-17 were lured onto a bus by a woman claiming to be a model scout. The girls were then subjected to sexual exploitation and were forced to create pornographic content. The case involved several accused perpetrators, including the bus driver, the organizer, and a producer who worked at the company associated with the scheme. \n",
      "\n",
      "3. The Lakeville Human Trafficking Case (2015): In this case, a couple was accused of trafficking and sexually exploiting a minor. The victim, a 14-year-old girl, was forced to work as a prostitute and was sexually abused by the couple. The couple was convicted and sentenced to lengthy prison terms. \n",
      "\n",
      "These are just a few examples of cases involving sexual exploitation and human trafficking of minors. Unfortunately, this heinous crime is all too common, and law enforcement agencies around the world are actively working to combat it.\n",
      "\n",
      "\n",
      "***************************************************************************\n",
      "What are the names of individuals or entities involved in alert identifier TMML2024033036135?\n",
      "Result: Based on the context information provided, I can only ascertain that the names of the individuals involved in the alert identifier TMML2024033937747, are Said Ahmad Sungkar and Afif Abdul Majid.\n",
      "\n",
      "\n",
      "***************************************************************************\n",
      "what is the predicate offense of alert identifier TMML2024033036135?\n",
      "Result: Unfortunately, I do not have enough information to provide you with a complete answer. Could you please provide the context information as well?\n",
      "\n",
      "\n",
      "***************************************************************************\n",
      "what are cases involved Iran? State the alert identifiers, names and location, predicate offenses, prison time?\n",
      "Result: Based on the context information provided, I can retrieve information about the cases involved with Iran. \n",
      "\n",
      "The Alert identifiers are:\n",
      "\n",
      "- TMML2024039785744\n",
      "- TMML2024039800418\n",
      "\n",
      "The names involved are:\n",
      "\n",
      "- Seyed Sajjad Shahidian\n",
      "- Vahid Vali\n",
      "- PAYMENT24\n",
      "\n",
      "The predicate offenses are:\n",
      "\n",
      "- Conspiracy to commit offenses against and to defraud the United States\n",
      "- Wire fraud\n",
      "- Money laundering\n",
      "- Identity theft\n",
      "\n",
      "Currently, I do not have access to information concerning prison time. \n",
      "\n",
      "If you have access to the internet, you can verify the information through a web search using the alert identifiers and names provided.\n",
      "\n",
      "\n",
      "***************************************************************************\n",
      "what are cases with the name of Ashley? State alert identifiers and description of the case.\n",
      "Result: I could not find any specific cases with the name Ashley. However, there is a case identified as TMML2024033946179, \n",
      "\n",
      "**Alert Identifier:** TMML2024033946179\n",
      "\n",
      "**Description:** This case was investigated by the FBI, DEA, and the SBA OIG with prosecutors from the U.S. Attorney's Office for the District of South Carolina, and Trial Attorney Siji Moore of the Criminal Division’s Fraud Section. Details on the case are not explicitly mentioned, but the case pertains to \"attempted fraud involving COVID-19\". \n",
      "\n",
      "If you have any further information, such as the name of an individual involved, please provide it and I will do my best to assist you further in searching for specific cases.\n",
      "\n",
      "\n",
      "***************************************************************************\n"
     ]
    }
   ],
   "source": [
    "for query in queries:\n",
    "    print(f\"{query}\")\n",
    "    result = query_engine.query(query)\n",
    "    print(f\"Result: {result}\\n\\n\")\n",
    "    print('***************************************************************************')"
   ]
  },
  {
   "cell_type": "code",
   "execution_count": null,
   "id": "2a25e0a9-3ae1-47bc-995e-17cfd6a82739",
   "metadata": {},
   "outputs": [],
   "source": []
  }
 ],
 "metadata": {
  "kernelspec": {
   "display_name": "rag_dataloaders",
   "language": "python",
   "name": "rag_dataloaders"
  },
  "language_info": {
   "codemirror_mode": {
    "name": "ipython",
    "version": 3
   },
   "file_extension": ".py",
   "mimetype": "text/x-python",
   "name": "python",
   "nbconvert_exporter": "python",
   "pygments_lexer": "ipython3",
   "version": "3.10.12"
  }
 },
 "nbformat": 4,
 "nbformat_minor": 5
}
